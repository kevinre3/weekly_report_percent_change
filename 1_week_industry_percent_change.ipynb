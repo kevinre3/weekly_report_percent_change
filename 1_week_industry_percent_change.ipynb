{
 "cells": [
  {
   "cell_type": "code",
   "execution_count": 1,
   "metadata": {},
   "outputs": [],
   "source": [
    "import pandas as pd\n",
    "import pandas_datareader as web\n",
    "from datetime import datetime\n",
    "from datetime import timedelta"
   ]
  },
  {
   "cell_type": "code",
   "execution_count": 2,
   "metadata": {},
   "outputs": [],
   "source": [
    "today = datetime.today().date()"
   ]
  },
  {
   "cell_type": "code",
   "execution_count": 3,
   "metadata": {},
   "outputs": [],
   "source": [
    "start = today - timedelta(days = 7)"
   ]
  },
  {
   "cell_type": "code",
   "execution_count": 4,
   "metadata": {},
   "outputs": [],
   "source": [
    "symbol = ['XLC', 'XLU', 'XLV', 'XLP', 'XLY', 'XLF', 'XLK', 'XLRE', 'XLB', 'XLE', 'XLI']"
   ]
  },
  {
   "cell_type": "code",
   "execution_count": 5,
   "metadata": {},
   "outputs": [],
   "source": [
    "industries = {}"
   ]
  },
  {
   "cell_type": "code",
   "execution_count": 6,
   "metadata": {},
   "outputs": [],
   "source": [
    "for i in symbol:\n",
    "    close = web.DataReader(i, 'yahoo', start, today)['Adj Close']\n",
    "    y = (((close[-1] - close[0])/(close[0]))*100)\n",
    "    z = str(round(y,2)) + '%'\n",
    "    industries[i] = z"
   ]
  },
  {
   "cell_type": "code",
   "execution_count": 7,
   "metadata": {},
   "outputs": [
    {
     "data": {
      "text/plain": [
       "{'XLC': '-3.91%',\n",
       " 'XLU': '-1.37%',\n",
       " 'XLV': '-3.11%',\n",
       " 'XLP': '-4.29%',\n",
       " 'XLY': '-4.04%',\n",
       " 'XLF': '-4.34%',\n",
       " 'XLK': '-6.4%',\n",
       " 'XLRE': '-4.68%',\n",
       " 'XLB': '-5.29%',\n",
       " 'XLE': '-5.52%',\n",
       " 'XLI': '-6.63%'}"
      ]
     },
     "execution_count": 7,
     "metadata": {},
     "output_type": "execute_result"
    }
   ],
   "source": [
    "industries"
   ]
  }
 ],
 "metadata": {
  "kernelspec": {
   "display_name": "Python 3",
   "language": "python",
   "name": "python3"
  },
  "language_info": {
   "codemirror_mode": {
    "name": "ipython",
    "version": 3
   },
   "file_extension": ".py",
   "mimetype": "text/x-python",
   "name": "python",
   "nbconvert_exporter": "python",
   "pygments_lexer": "ipython3",
   "version": "3.7.3"
  }
 },
 "nbformat": 4,
 "nbformat_minor": 4
}
